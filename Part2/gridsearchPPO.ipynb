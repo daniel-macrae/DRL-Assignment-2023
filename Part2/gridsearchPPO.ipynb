{
 "cells": [
  {
   "cell_type": "code",
   "execution_count": 2,
   "metadata": {},
   "outputs": [
    {
     "ename": "AttributeError",
     "evalue": "module 'gym.envs.box2d' has no attribute 'BipedalWalker'",
     "output_type": "error",
     "traceback": [
      "\u001b[1;31m---------------------------------------------------------------------------\u001b[0m",
      "\u001b[1;31mAttributeError\u001b[0m                            Traceback (most recent call last)",
      "\u001b[1;32mc:\\Users\\Usuario\\Documents\\Gronningen\\Uni\\Year 1\\Semester 2b\\Deep Reinforcement Learning\\Assignments\\DRL-Assignment-2023\\Part2\\gridsearchPPO.ipynb Cell 1\u001b[0m in \u001b[0;36m3\n\u001b[0;32m     <a href='vscode-notebook-cell:/c%3A/Users/Usuario/Documents/Gronningen/Uni/Year%201/Semester%202b/Deep%20Reinforcement%20Learning/Assignments/DRL-Assignment-2023/Part2/gridsearchPPO.ipynb#W1sZmlsZQ%3D%3D?line=27'>28</a>\u001b[0m callback \u001b[39m=\u001b[39m SaveOnBestTrainingRewardCallback(check_freq\u001b[39m=\u001b[39m\u001b[39m100\u001b[39m, log_dir\u001b[39m=\u001b[39mlog_dir, file_name\u001b[39m=\u001b[39mmodelName)\n\u001b[0;32m     <a href='vscode-notebook-cell:/c%3A/Users/Usuario/Documents/Gronningen/Uni/Year%201/Semester%202b/Deep%20Reinforcement%20Learning/Assignments/DRL-Assignment-2023/Part2/gridsearchPPO.ipynb#W1sZmlsZQ%3D%3D?line=32'>33</a>\u001b[0m \u001b[39m### ENVIRONMENT ###\u001b[39;00m\n\u001b[0;32m     <a href='vscode-notebook-cell:/c%3A/Users/Usuario/Documents/Gronningen/Uni/Year%201/Semester%202b/Deep%20Reinforcement%20Learning/Assignments/DRL-Assignment-2023/Part2/gridsearchPPO.ipynb#W1sZmlsZQ%3D%3D?line=33'>34</a>\u001b[0m \u001b[39m# Create and wrap the environment\u001b[39;00m\n\u001b[1;32m---> <a href='vscode-notebook-cell:/c%3A/Users/Usuario/Documents/Gronningen/Uni/Year%201/Semester%202b/Deep%20Reinforcement%20Learning/Assignments/DRL-Assignment-2023/Part2/gridsearchPPO.ipynb#W1sZmlsZQ%3D%3D?line=35'>36</a>\u001b[0m vec_env \u001b[39m=\u001b[39m make_vec_env(env_name, n_envs\u001b[39m=\u001b[39;49m\u001b[39m16\u001b[39;49m)\n\u001b[0;32m     <a href='vscode-notebook-cell:/c%3A/Users/Usuario/Documents/Gronningen/Uni/Year%201/Semester%202b/Deep%20Reinforcement%20Learning/Assignments/DRL-Assignment-2023/Part2/gridsearchPPO.ipynb#W1sZmlsZQ%3D%3D?line=36'>37</a>\u001b[0m vec_env \u001b[39m=\u001b[39m VecMonitor(vec_env, results_filename)  \u001b[39m# this is the monitor, that saves the training episode results to the csv file\u001b[39;00m\n\u001b[0;32m     <a href='vscode-notebook-cell:/c%3A/Users/Usuario/Documents/Gronningen/Uni/Year%201/Semester%202b/Deep%20Reinforcement%20Learning/Assignments/DRL-Assignment-2023/Part2/gridsearchPPO.ipynb#W1sZmlsZQ%3D%3D?line=39'>40</a>\u001b[0m \u001b[39m### MAKE THE MODEL  ###\u001b[39;00m\n",
      "File \u001b[1;32mc:\\Users\\Usuario\\anaconda3\\envs\\DRLearning\\lib\\site-packages\\stable_baselines3\\common\\env_util.py:105\u001b[0m, in \u001b[0;36mmake_vec_env\u001b[1;34m(env_id, n_envs, seed, start_index, monitor_dir, wrapper_class, env_kwargs, vec_env_cls, vec_env_kwargs, monitor_kwargs, wrapper_kwargs)\u001b[0m\n\u001b[0;32m    101\u001b[0m \u001b[39mif\u001b[39;00m vec_env_cls \u001b[39mis\u001b[39;00m \u001b[39mNone\u001b[39;00m:\n\u001b[0;32m    102\u001b[0m     \u001b[39m# Default: use a DummyVecEnv\u001b[39;00m\n\u001b[0;32m    103\u001b[0m     vec_env_cls \u001b[39m=\u001b[39m DummyVecEnv\n\u001b[1;32m--> 105\u001b[0m \u001b[39mreturn\u001b[39;00m vec_env_cls([make_env(i \u001b[39m+\u001b[39m start_index) \u001b[39mfor\u001b[39;00m i \u001b[39min\u001b[39;00m \u001b[39mrange\u001b[39m(n_envs)], \u001b[39m*\u001b[39m\u001b[39m*\u001b[39mvec_env_kwargs)\n",
      "File \u001b[1;32mc:\\Users\\Usuario\\anaconda3\\envs\\DRLearning\\lib\\site-packages\\stable_baselines3\\common\\vec_env\\dummy_vec_env.py:25\u001b[0m, in \u001b[0;36mDummyVecEnv.__init__\u001b[1;34m(self, env_fns)\u001b[0m\n\u001b[0;32m     24\u001b[0m \u001b[39mdef\u001b[39;00m \u001b[39m__init__\u001b[39m(\u001b[39mself\u001b[39m, env_fns: List[Callable[[], gym\u001b[39m.\u001b[39mEnv]]):\n\u001b[1;32m---> 25\u001b[0m     \u001b[39mself\u001b[39m\u001b[39m.\u001b[39menvs \u001b[39m=\u001b[39m [fn() \u001b[39mfor\u001b[39;00m fn \u001b[39min\u001b[39;00m env_fns]\n\u001b[0;32m     26\u001b[0m     env \u001b[39m=\u001b[39m \u001b[39mself\u001b[39m\u001b[39m.\u001b[39menvs[\u001b[39m0\u001b[39m]\n\u001b[0;32m     27\u001b[0m     VecEnv\u001b[39m.\u001b[39m\u001b[39m__init__\u001b[39m(\u001b[39mself\u001b[39m, \u001b[39mlen\u001b[39m(env_fns), env\u001b[39m.\u001b[39mobservation_space, env\u001b[39m.\u001b[39maction_space)\n",
      "File \u001b[1;32mc:\\Users\\Usuario\\anaconda3\\envs\\DRLearning\\lib\\site-packages\\stable_baselines3\\common\\vec_env\\dummy_vec_env.py:25\u001b[0m, in \u001b[0;36m<listcomp>\u001b[1;34m(.0)\u001b[0m\n\u001b[0;32m     24\u001b[0m \u001b[39mdef\u001b[39;00m \u001b[39m__init__\u001b[39m(\u001b[39mself\u001b[39m, env_fns: List[Callable[[], gym\u001b[39m.\u001b[39mEnv]]):\n\u001b[1;32m---> 25\u001b[0m     \u001b[39mself\u001b[39m\u001b[39m.\u001b[39menvs \u001b[39m=\u001b[39m [fn() \u001b[39mfor\u001b[39;00m fn \u001b[39min\u001b[39;00m env_fns]\n\u001b[0;32m     26\u001b[0m     env \u001b[39m=\u001b[39m \u001b[39mself\u001b[39m\u001b[39m.\u001b[39menvs[\u001b[39m0\u001b[39m]\n\u001b[0;32m     27\u001b[0m     VecEnv\u001b[39m.\u001b[39m\u001b[39m__init__\u001b[39m(\u001b[39mself\u001b[39m, \u001b[39mlen\u001b[39m(env_fns), env\u001b[39m.\u001b[39mobservation_space, env\u001b[39m.\u001b[39maction_space)\n",
      "File \u001b[1;32mc:\\Users\\Usuario\\anaconda3\\envs\\DRLearning\\lib\\site-packages\\stable_baselines3\\common\\env_util.py:80\u001b[0m, in \u001b[0;36mmake_vec_env.<locals>.make_env.<locals>._init\u001b[1;34m()\u001b[0m\n\u001b[0;32m     78\u001b[0m \u001b[39mdef\u001b[39;00m \u001b[39m_init\u001b[39m():\n\u001b[0;32m     79\u001b[0m     \u001b[39mif\u001b[39;00m \u001b[39misinstance\u001b[39m(env_id, \u001b[39mstr\u001b[39m):\n\u001b[1;32m---> 80\u001b[0m         env \u001b[39m=\u001b[39m gym\u001b[39m.\u001b[39mmake(env_id, \u001b[39m*\u001b[39m\u001b[39m*\u001b[39menv_kwargs)\n\u001b[0;32m     81\u001b[0m     \u001b[39melse\u001b[39;00m:\n\u001b[0;32m     82\u001b[0m         env \u001b[39m=\u001b[39m env_id(\u001b[39m*\u001b[39m\u001b[39m*\u001b[39menv_kwargs)\n",
      "File \u001b[1;32mc:\\Users\\Usuario\\anaconda3\\envs\\DRLearning\\lib\\site-packages\\gym\\envs\\registration.py:235\u001b[0m, in \u001b[0;36mmake\u001b[1;34m(id, **kwargs)\u001b[0m\n\u001b[0;32m    234\u001b[0m \u001b[39mdef\u001b[39;00m \u001b[39mmake\u001b[39m(\u001b[39mid\u001b[39m, \u001b[39m*\u001b[39m\u001b[39m*\u001b[39mkwargs):\n\u001b[1;32m--> 235\u001b[0m     \u001b[39mreturn\u001b[39;00m registry\u001b[39m.\u001b[39mmake(\u001b[39mid\u001b[39m, \u001b[39m*\u001b[39m\u001b[39m*\u001b[39mkwargs)\n",
      "File \u001b[1;32mc:\\Users\\Usuario\\anaconda3\\envs\\DRLearning\\lib\\site-packages\\gym\\envs\\registration.py:129\u001b[0m, in \u001b[0;36mEnvRegistry.make\u001b[1;34m(self, path, **kwargs)\u001b[0m\n\u001b[0;32m    127\u001b[0m     logger\u001b[39m.\u001b[39minfo(\u001b[39m\"\u001b[39m\u001b[39mMaking new env: \u001b[39m\u001b[39m%s\u001b[39;00m\u001b[39m\"\u001b[39m, path)\n\u001b[0;32m    128\u001b[0m spec \u001b[39m=\u001b[39m \u001b[39mself\u001b[39m\u001b[39m.\u001b[39mspec(path)\n\u001b[1;32m--> 129\u001b[0m env \u001b[39m=\u001b[39m spec\u001b[39m.\u001b[39mmake(\u001b[39m*\u001b[39m\u001b[39m*\u001b[39mkwargs)\n\u001b[0;32m    130\u001b[0m \u001b[39mreturn\u001b[39;00m env\n",
      "File \u001b[1;32mc:\\Users\\Usuario\\anaconda3\\envs\\DRLearning\\lib\\site-packages\\gym\\envs\\registration.py:89\u001b[0m, in \u001b[0;36mEnvSpec.make\u001b[1;34m(self, **kwargs)\u001b[0m\n\u001b[0;32m     87\u001b[0m     env \u001b[39m=\u001b[39m \u001b[39mself\u001b[39m\u001b[39m.\u001b[39mentry_point(\u001b[39m*\u001b[39m\u001b[39m*\u001b[39m_kwargs)\n\u001b[0;32m     88\u001b[0m \u001b[39melse\u001b[39;00m:\n\u001b[1;32m---> 89\u001b[0m     \u001b[39mcls\u001b[39m \u001b[39m=\u001b[39m load(\u001b[39mself\u001b[39;49m\u001b[39m.\u001b[39;49mentry_point)\n\u001b[0;32m     90\u001b[0m     env \u001b[39m=\u001b[39m \u001b[39mcls\u001b[39m(\u001b[39m*\u001b[39m\u001b[39m*\u001b[39m_kwargs)\n\u001b[0;32m     92\u001b[0m \u001b[39m# Make the environment aware of which spec it came from.\u001b[39;00m\n",
      "File \u001b[1;32mc:\\Users\\Usuario\\anaconda3\\envs\\DRLearning\\lib\\site-packages\\gym\\envs\\registration.py:28\u001b[0m, in \u001b[0;36mload\u001b[1;34m(name)\u001b[0m\n\u001b[0;32m     26\u001b[0m mod_name, attr_name \u001b[39m=\u001b[39m name\u001b[39m.\u001b[39msplit(\u001b[39m\"\u001b[39m\u001b[39m:\u001b[39m\u001b[39m\"\u001b[39m)\n\u001b[0;32m     27\u001b[0m mod \u001b[39m=\u001b[39m importlib\u001b[39m.\u001b[39mimport_module(mod_name)\n\u001b[1;32m---> 28\u001b[0m fn \u001b[39m=\u001b[39m \u001b[39mgetattr\u001b[39;49m(mod, attr_name)\n\u001b[0;32m     29\u001b[0m \u001b[39mreturn\u001b[39;00m fn\n",
      "\u001b[1;31mAttributeError\u001b[0m: module 'gym.envs.box2d' has no attribute 'BipedalWalker'"
     ]
    }
   ],
   "source": [
    "## TRAINING FILE\n",
    "\n",
    "import gymnasium as gym\n",
    "import numpy as np\n",
    "import os\n",
    "\n",
    "from stable_baselines3 import A2C, PPO, TD3 # these are the algorithms (models) we can use\n",
    "from stable_baselines3.common.monitor import Monitor\n",
    "from stable_baselines3.common.env_util import make_vec_env\n",
    "from stable_baselines3.common.vec_env import VecMonitor\n",
    "\n",
    "from Callbacks import SaveOnBestTrainingRewardCallback\n",
    "\n",
    "\n",
    "env_name = \"BipedalWalker-v3\"\n",
    "modelName = \"PPO_Bipedal_1\"\n",
    "\n",
    "\n",
    "###   TRAINING UTILS  ###\n",
    "# directory to save the log files in\n",
    "# Logs will be saved in log_dir/modelName.csv\n",
    "log_dir = \"tmp/\"\n",
    "os.makedirs(log_dir, exist_ok=True)\n",
    "\n",
    "results_filename = log_dir + modelName + \"_\"\n",
    "# this will save the best model during training\n",
    "callback = SaveOnBestTrainingRewardCallback(check_freq=100, log_dir=log_dir, file_name=modelName)\n",
    "\n",
    "\n",
    "\n",
    "\n",
    "### ENVIRONMENT ###\n",
    "# Create and wrap the environment\n",
    "\n",
    "vec_env = make_vec_env(env_name, n_envs=16)\n",
    "vec_env = VecMonitor(vec_env, results_filename)  # this is the monitor, that saves the training episode results to the csv file\n",
    "\n",
    "\n",
    "### MAKE THE MODEL  ###\n",
    "model = PPO('MlpPolicy', vec_env, verbose=0,\n",
    "            n_steps = 2048,\n",
    "            batch_size = 64,\n",
    "            gae_lambda= 0.95,\n",
    "            gamma= 0.999,\n",
    "            n_epochs= 10,\n",
    "            ent_coef= 0.0,\n",
    "            learning_rate= 3e-4,\n",
    "            clip_range= 0.18,\n",
    "        )\n",
    "\n",
    "\n",
    "### TRAINING ###\n",
    "\n",
    "timesteps = 5e6\n",
    "model.learn(total_timesteps=int(timesteps), callback=callback)\n",
    "\n",
    "\n"
   ]
  },
  {
   "attachments": {},
   "cell_type": "markdown",
   "metadata": {},
   "source": [
    "GRIDSEARCH STUFF\n"
   ]
  },
  {
   "cell_type": "code",
   "execution_count": null,
   "metadata": {},
   "outputs": [],
   "source": [
    "from sklearn.model_selection import GridSearchCV\n",
    "\n",
    "# ... (previous code) ...\n",
    "\n",
    "# Create an instance of the PPO model without specifying any hyperparameters\n",
    "model = PPO('MlpPolicy', vec_env, verbose=0)\n",
    "\n",
    "# Define the parameter grid\n",
    "param_grid = {\n",
    "    'learning_rate': [1e-4, 3e-4, 5e-4],\n",
    "    'n_steps': [1024, 2048, 4096],\n",
    "    'clip_range': [0.1, 0.2, 0.3]\n",
    "}\n",
    "\n",
    "# Create an instance of GridSearchCV\n",
    "grid_search = GridSearchCV(model, param_grid, cv=3)\n",
    "\n",
    "# Fit the grid search object\n",
    "grid_search.fit(vec_env)\n",
    "\n",
    "# Access the best parameters\n",
    "print(\"Best parameters found:\", grid_search.best_params_)\n"
   ]
  }
 ],
 "metadata": {
  "kernelspec": {
   "display_name": "DRLearning",
   "language": "python",
   "name": "python3"
  },
  "language_info": {
   "codemirror_mode": {
    "name": "ipython",
    "version": 3
   },
   "file_extension": ".py",
   "mimetype": "text/x-python",
   "name": "python",
   "nbconvert_exporter": "python",
   "pygments_lexer": "ipython3",
   "version": "3.10.11"
  },
  "orig_nbformat": 4
 },
 "nbformat": 4,
 "nbformat_minor": 2
}
