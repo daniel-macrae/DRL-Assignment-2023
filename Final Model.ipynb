{
 "cells": [
  {
   "cell_type": "code",
   "execution_count": 1,
   "metadata": {},
   "outputs": [
    {
     "name": "stderr",
     "output_type": "stream",
     "text": [
      "c:\\Users\\danie\\miniconda3\\envs\\footballtracking\\lib\\site-packages\\tqdm\\auto.py:21: TqdmWarning: IProgress not found. Please update jupyter and ipywidgets. See https://ipywidgets.readthedocs.io/en/stable/user_install.html\n",
      "  from .autonotebook import tqdm as notebook_tqdm\n"
     ]
    }
   ],
   "source": [
    "from agent_and_memory import Agent, MemoryBuffer\n",
    "from Catch import CatchEnv\n",
    "import torch\n",
    "import numpy as np\n",
    "import matplotlib.pyplot as plt\n",
    "\n",
    "\n",
    "device = torch.device(\"cuda\" if torch.cuda.is_available() else \"cpu\")"
   ]
  },
  {
   "cell_type": "code",
   "execution_count": 2,
   "metadata": {},
   "outputs": [],
   "source": [
    "# function to perform the 10 episodes of testing the agent, without any learning taking place\n",
    "def testingTenEpisodes(agent, env):\n",
    "    total_reward = 0\n",
    "    for episode in range(10):        \n",
    "\n",
    "        state = env.reset()\n",
    "        state = torch.tensor(state, dtype=torch.float32, device=device)\n",
    "        state = state.permute(2, 0, 1).unsqueeze(0) \n",
    "\n",
    "        terminal = False\n",
    "        \n",
    "        while not terminal:\n",
    "            action = agent.select_action(state, testing = True)     # testing=True enforces exploitation, no exploration takes place\n",
    "            next_state, reward, terminal = env.step(action.item()) \n",
    "\n",
    "            if not terminal:\n",
    "                next_state = torch.tensor(next_state, dtype=torch.float32, device=device)\n",
    "                next_state = next_state.permute(2, 0, 1).unsqueeze(0)\n",
    "            \n",
    "            if terminal:\n",
    "                next_state = None\n",
    "\n",
    "            total_reward += reward\n",
    "            state = next_state\n",
    "\n",
    "\n",
    "    return total_reward / 10"
   ]
  },
  {
   "attachments": {},
   "cell_type": "markdown",
   "metadata": {},
   "source": [
    "# DQN Parameters"
   ]
  },
  {
   "cell_type": "code",
   "execution_count": 3,
   "metadata": {},
   "outputs": [],
   "source": [
    "params = {'batch_size' : 128,\n",
    "                'gamma' : 0.99,\n",
    "                'eps_start' : 0.9,\n",
    "                'eps_end' : 0,\n",
    "                'eps_decay' : 500,\n",
    "                'learning_rate' : 1e-3,\n",
    "                'memory_buffer' : 50000,\n",
    "                'ams_grad' : True,\n",
    "                'targetnet_update_rate' : 10}\n",
    "\n",
    "if torch.cuda.is_available():\n",
    "    num_episodes = 5000\n",
    "else:\n",
    "    num_episodes = 50"
   ]
  },
  {
   "attachments": {},
   "cell_type": "markdown",
   "metadata": {},
   "source": [
    "# Training and Evaluation Loop"
   ]
  },
  {
   "cell_type": "code",
   "execution_count": 4,
   "metadata": {},
   "outputs": [
    {
     "name": "stdout",
     "output_type": "stream",
     "text": [
      "Run number: 1\n"
     ]
    },
    {
     "ename": "OutOfMemoryError",
     "evalue": "CUDA out of memory. Tried to allocate 12.00 MiB (GPU 0; 4.00 GiB total capacity; 3.41 GiB already allocated; 0 bytes free; 3.49 GiB reserved in total by PyTorch) If reserved memory is >> allocated memory try setting max_split_size_mb to avoid fragmentation.  See documentation for Memory Management and PYTORCH_CUDA_ALLOC_CONF",
     "output_type": "error",
     "traceback": [
      "\u001b[1;31m---------------------------------------------------------------------------\u001b[0m",
      "\u001b[1;31mOutOfMemoryError\u001b[0m                          Traceback (most recent call last)",
      "Cell \u001b[1;32mIn[4], line 39\u001b[0m\n\u001b[0;32m     36\u001b[0m     state \u001b[39m=\u001b[39m next_state\n\u001b[0;32m     38\u001b[0m     \u001b[39m# optimise the DQN model\u001b[39;00m\n\u001b[1;32m---> 39\u001b[0m     agent\u001b[39m.\u001b[39;49moptimize_model()\n\u001b[0;32m     41\u001b[0m \u001b[39m# testing of the agent between 10 episode blocks\u001b[39;00m\n\u001b[0;32m     42\u001b[0m \u001b[39mif\u001b[39;00m episode \u001b[39m%\u001b[39m \u001b[39m10\u001b[39m \u001b[39m==\u001b[39m \u001b[39m0\u001b[39m \u001b[39mand\u001b[39;00m episode \u001b[39m>\u001b[39m \u001b[39m0\u001b[39m:\n",
      "File \u001b[1;32mc:\\Users\\danie\\Desktop\\FSE 22-23\\Deep Reinforcement Learning\\DRL-Assignment-2023\\agent_and_memory.py:149\u001b[0m, in \u001b[0;36mAgent.optimize_model\u001b[1;34m(self)\u001b[0m\n\u001b[0;32m    147\u001b[0m next_state_values \u001b[39m=\u001b[39m torch\u001b[39m.\u001b[39mzeros(\u001b[39mself\u001b[39m\u001b[39m.\u001b[39mbatch_size, device\u001b[39m=\u001b[39mdevice)\n\u001b[0;32m    148\u001b[0m \u001b[39mwith\u001b[39;00m torch\u001b[39m.\u001b[39mno_grad():\n\u001b[1;32m--> 149\u001b[0m     next_state_values[non_final_mask] \u001b[39m=\u001b[39m \u001b[39mself\u001b[39;49m\u001b[39m.\u001b[39;49mtarget_network(non_final_next_states)\u001b[39m.\u001b[39mmax(\u001b[39m1\u001b[39m)[\u001b[39m0\u001b[39m]  \u001b[39m# get the max Q value\u001b[39;00m\n\u001b[0;32m    151\u001b[0m \u001b[39m# set the temporal difference learning target\u001b[39;00m\n\u001b[0;32m    152\u001b[0m TD_targets \u001b[39m=\u001b[39m (batch_of_rewards \u001b[39m+\u001b[39m (\u001b[39mself\u001b[39m\u001b[39m.\u001b[39mgamma \u001b[39m*\u001b[39m next_state_values)  )\u001b[39m.\u001b[39munsqueeze(\u001b[39m1\u001b[39m)\n",
      "File \u001b[1;32mc:\\Users\\danie\\miniconda3\\envs\\footballtracking\\lib\\site-packages\\torch\\nn\\modules\\module.py:1194\u001b[0m, in \u001b[0;36mModule._call_impl\u001b[1;34m(self, *input, **kwargs)\u001b[0m\n\u001b[0;32m   1190\u001b[0m \u001b[39m# If we don't have any hooks, we want to skip the rest of the logic in\u001b[39;00m\n\u001b[0;32m   1191\u001b[0m \u001b[39m# this function, and just call forward.\u001b[39;00m\n\u001b[0;32m   1192\u001b[0m \u001b[39mif\u001b[39;00m \u001b[39mnot\u001b[39;00m (\u001b[39mself\u001b[39m\u001b[39m.\u001b[39m_backward_hooks \u001b[39mor\u001b[39;00m \u001b[39mself\u001b[39m\u001b[39m.\u001b[39m_forward_hooks \u001b[39mor\u001b[39;00m \u001b[39mself\u001b[39m\u001b[39m.\u001b[39m_forward_pre_hooks \u001b[39mor\u001b[39;00m _global_backward_hooks\n\u001b[0;32m   1193\u001b[0m         \u001b[39mor\u001b[39;00m _global_forward_hooks \u001b[39mor\u001b[39;00m _global_forward_pre_hooks):\n\u001b[1;32m-> 1194\u001b[0m     \u001b[39mreturn\u001b[39;00m forward_call(\u001b[39m*\u001b[39m\u001b[39minput\u001b[39m, \u001b[39m*\u001b[39m\u001b[39m*\u001b[39mkwargs)\n\u001b[0;32m   1195\u001b[0m \u001b[39m# Do not call functions when jit is used\u001b[39;00m\n\u001b[0;32m   1196\u001b[0m full_backward_hooks, non_full_backward_hooks \u001b[39m=\u001b[39m [], []\n",
      "File \u001b[1;32mc:\\Users\\danie\\Desktop\\FSE 22-23\\Deep Reinforcement Learning\\DRL-Assignment-2023\\agent_and_memory.py:62\u001b[0m, in \u001b[0;36mDQN.forward\u001b[1;34m(self, x)\u001b[0m\n\u001b[0;32m     60\u001b[0m \u001b[39mdef\u001b[39;00m \u001b[39mforward\u001b[39m(\u001b[39mself\u001b[39m, x):\n\u001b[0;32m     61\u001b[0m     \u001b[39m# Max pooling over a (2, 2) window\u001b[39;00m\n\u001b[1;32m---> 62\u001b[0m     x \u001b[39m=\u001b[39m F\u001b[39m.\u001b[39;49mrelu(\u001b[39mself\u001b[39;49m\u001b[39m.\u001b[39;49mconv1(x))\n\u001b[0;32m     63\u001b[0m     x \u001b[39m=\u001b[39m F\u001b[39m.\u001b[39mmax_pool2d(x, (\u001b[39m2\u001b[39m, \u001b[39m2\u001b[39m))\n\u001b[0;32m     64\u001b[0m     x \u001b[39m=\u001b[39m F\u001b[39m.\u001b[39mrelu(\u001b[39mself\u001b[39m\u001b[39m.\u001b[39mconv2(x))\n",
      "File \u001b[1;32mc:\\Users\\danie\\miniconda3\\envs\\footballtracking\\lib\\site-packages\\torch\\nn\\functional.py:1457\u001b[0m, in \u001b[0;36mrelu\u001b[1;34m(input, inplace)\u001b[0m\n\u001b[0;32m   1455\u001b[0m     result \u001b[39m=\u001b[39m torch\u001b[39m.\u001b[39mrelu_(\u001b[39minput\u001b[39m)\n\u001b[0;32m   1456\u001b[0m \u001b[39melse\u001b[39;00m:\n\u001b[1;32m-> 1457\u001b[0m     result \u001b[39m=\u001b[39m torch\u001b[39m.\u001b[39;49mrelu(\u001b[39minput\u001b[39;49m)\n\u001b[0;32m   1458\u001b[0m \u001b[39mreturn\u001b[39;00m result\n",
      "\u001b[1;31mOutOfMemoryError\u001b[0m: CUDA out of memory. Tried to allocate 12.00 MiB (GPU 0; 4.00 GiB total capacity; 3.41 GiB already allocated; 0 bytes free; 3.49 GiB reserved in total by PyTorch) If reserved memory is >> allocated memory try setting max_split_size_mb to avoid fragmentation.  See documentation for Memory Management and PYTORCH_CUDA_ALLOC_CONF"
     ]
    }
   ],
   "source": [
    "env = CatchEnv()\n",
    "num_moves = env.get_num_actions()\n",
    "\n",
    "\n",
    "for runNumber in range(1,6): \n",
    "    print(\"Run number:\", runNumber)\n",
    "    evaluation_results = [] \n",
    "\n",
    "    # initialise the memory buffer and agent\n",
    "    memoryBuffer = MemoryBuffer(params['memory_buffer'])\n",
    "    agent = Agent(num_moves, params['eps_start'], params['eps_end'], params['eps_decay'], memoryBuffer, params['batch_size'], params['learning_rate'], params['ams_grad'], params['gamma'], params['targetnet_update_rate'])\n",
    "\n",
    "\n",
    "    for episode in range(num_episodes):\n",
    "        agent.episode += 1\n",
    "\n",
    "        state = env.reset()\n",
    "        state = torch.tensor(state, dtype=torch.float32, device=device).permute(2, 0, 1).unsqueeze(0) \n",
    "\n",
    "        terminal = False\n",
    "\n",
    "        while not terminal:\n",
    "            # agent interacts with the environment\n",
    "            action = agent.select_action(state)    \n",
    "            next_state, reward, terminal = env.step(action.item()) \n",
    "            \n",
    "            # turn everything into tensors here, before putting in memory\n",
    "            reward = torch.tensor([reward], device=device)\n",
    "            if not terminal:\n",
    "                next_state = torch.tensor(next_state, dtype=torch.float32, device=device).permute(2, 0, 1).unsqueeze(0)\n",
    "            else:\n",
    "                next_state = None\n",
    "                            \n",
    "            # add trajectory to memory buffer and move to the next state\n",
    "            agent.memory.push(state, action, next_state, reward)\n",
    "            state = next_state\n",
    "\n",
    "            # optimise the DQN model\n",
    "            agent.optimize_model()\n",
    "\n",
    "        # testing of the agent between 10 episode blocks\n",
    "        if episode % 10 == 0 and episode > 0:\n",
    "            score = testingTenEpisodes(agent, env)\n",
    "            evaluation_results.append(score)\n",
    "        \n",
    "    #print(evaluation_results)\n",
    "    evaluation_results = np.array(evaluation_results)\n",
    "\n",
    "    filename = \"Results/group_02_catch_rewards_\" + str(runNumber) + \".npy\"\n",
    "    np.save(filename, evaluation_results)\n",
    "\n",
    "    plt.plot(evaluation_results)\n",
    "    plt.show()\n",
    "\n",
    "    del agent.model, agent.target_network\n",
    "    del agent, memoryBuffer\n",
    "\n",
    "\n",
    "\n",
    "\n",
    "\n"
   ]
  }
 ],
 "metadata": {
  "kernelspec": {
   "display_name": "Python 3",
   "language": "python",
   "name": "python3"
  },
  "language_info": {
   "codemirror_mode": {
    "name": "ipython",
    "version": 3
   },
   "file_extension": ".py",
   "mimetype": "text/x-python",
   "name": "python",
   "nbconvert_exporter": "python",
   "pygments_lexer": "ipython3",
   "version": "3.10.9"
  },
  "orig_nbformat": 4
 },
 "nbformat": 4,
 "nbformat_minor": 2
}
