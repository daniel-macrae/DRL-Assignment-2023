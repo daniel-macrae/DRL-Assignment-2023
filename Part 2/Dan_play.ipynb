{
 "cells": [
  {
   "cell_type": "code",
   "execution_count": 13,
   "metadata": {},
   "outputs": [
    {
     "data": {
      "text/plain": [
       "(array([ 0.75617425,  0.99832736, -0.04449435,  0.00470251, -0.03661442,\n",
       "        -0.04862916, -0.02827218,  0.04626978,  0.0907446 ,  0.07444067,\n",
       "        -0.04822172, -0.07291858, -0.03822354, -0.07026388, -0.19654998,\n",
       "        -0.01666219, -0.0162994 , -0.1049481 , -0.02898061,  0.06698111,\n",
       "        -0.04907956, -0.02711168, -0.00156547, -0.07225018, -0.35864396,\n",
       "         0.02103083,  0.19422689]),\n",
       " {})"
      ]
     },
     "execution_count": 13,
     "metadata": {},
     "output_type": "execute_result"
    }
   ],
   "source": [
    "import gym\n",
    "\n",
    "env = gym.make(\"Ant-v4\")\n",
    "\n",
    "env.reset()\n"
   ]
  },
  {
   "attachments": {},
   "cell_type": "markdown",
   "metadata": {},
   "source": [
    "## Policy Network guides:\n",
    "\n",
    "REINFORCE algorithm\n",
    "https://gymnasium.farama.org/v0.27.0/tutorials/reinforce_invpend_gym_v26/\n",
    "\n",
    "A2C\n",
    "https://stable-baselines.readthedocs.io/en/master/modules/a2c.html\n",
    "\n",
    "\n"
   ]
  },
  {
   "cell_type": "code",
   "execution_count": 15,
   "metadata": {},
   "outputs": [
    {
     "name": "stdout",
     "output_type": "stream",
     "text": [
      "[ 7.77470815e-01  9.95519978e-01 -5.65967367e-02 -1.23104253e-03\n",
      " -7.57315417e-02 -2.95335112e-01  9.23103236e-01  2.50890622e-01\n",
      " -1.10173781e+00  5.89336957e-01 -1.02053070e+00  4.28117060e-02\n",
      "  1.25768556e+00 -2.45426504e-01 -4.63907261e-01 -5.47262166e-01\n",
      " -1.32516458e+00 -6.77344981e-02 -3.13983518e-01 -5.23958841e-01\n",
      "  8.33565794e+00 -1.53275761e+00 -1.06994071e+01  1.41786642e+00\n",
      " -1.46011479e+01  6.10865859e+00  1.39091045e+01] \n",
      "\n",
      "-1.1269735467556428 \n",
      "\n",
      "False \n",
      "\n",
      "False \n",
      "\n",
      "{'reward_forward': -0.34746805549892884, 'reward_ctrl': -1.7795054912567139, 'reward_survive': 1.0, 'x_position': 0.045502015525496466, 'y_position': 0.031059475866916993, 'distance_from_origin': 0.055091963642713994, 'x_velocity': -0.34746805549892884, 'y_velocity': -0.006343547079336043, 'forward_reward': -0.34746805549892884} \n",
      "\n"
     ]
    }
   ],
   "source": [
    "action = env.action_space.sample()\n",
    "\n",
    "\"\"\"\n",
    "- next_obs: This is the observation that the agent will receive after taking the action.\n",
    "- reward: This is the reward that the agent will receive after taking the action.\n",
    "- terminated: This is a boolean variable that indicates whether or not the environment has terminated.\n",
    "- truncated: This is a boolean variable that also indicates whether the episode ended by early truncation, i.e., a limit of 1000 timesteps is reached.\n",
    "- info: This is a dictionary that might contain additional information about the environment.\n",
    "\"\"\"\n",
    "observation, reward, terminated, truncated, info = env.step(action=action)\n",
    "\n",
    "output = env.step(action=action)\n",
    "\n",
    "\n",
    "for i in output:\n",
    "    print(i, \"\\n\")"
   ]
  },
  {
   "cell_type": "code",
   "execution_count": 16,
   "metadata": {},
   "outputs": [
    {
     "name": "stdout",
     "output_type": "stream",
     "text": [
      "Package              Version\n",
      "-------------------- --------\n",
      "absl-py              1.4.0\n",
      "asttokens            2.0.5\n",
      "backcall             0.2.0\n",
      "Bottleneck           1.3.5\n",
      "brotlipy             0.7.0\n",
      "certifi              2023.5.7\n",
      "cffi                 1.15.1\n",
      "charset-normalizer   2.0.4\n",
      "cloudpickle          2.2.1\n",
      "colorama             0.4.6\n",
      "comm                 0.1.2\n",
      "contourpy            1.0.5\n",
      "cryptography         39.0.1\n",
      "cycler               0.11.0\n",
      "Cython               0.29.35\n",
      "debugpy              1.5.1\n",
      "decorator            5.1.1\n",
      "executing            0.8.3\n",
      "Farama-Notifications 0.0.4\n",
      "fasteners            0.18\n",
      "filelock             3.9.0\n",
      "fonttools            4.25.0\n",
      "glfw                 2.5.9\n",
      "gym                  0.26.2\n",
      "gym-notices          0.0.8\n",
      "gymnasium            0.28.1\n",
      "idna                 3.4\n",
      "imageio              2.29.0\n",
      "ipykernel            6.19.2\n",
      "ipython              8.12.0\n",
      "jax-jumpy            1.0.0\n",
      "jedi                 0.18.1\n",
      "Jinja2               3.1.2\n",
      "jupyter_client       8.1.0\n",
      "jupyter_core         5.3.0\n",
      "kiwisolver           1.4.4\n",
      "MarkupSafe           2.1.1\n",
      "matplotlib           3.7.1\n",
      "matplotlib-inline    0.1.6\n",
      "mkl-fft              1.3.6\n",
      "mkl-random           1.2.2\n",
      "mkl-service          2.4.0\n",
      "mpmath               1.2.1\n",
      "mujoco               2.2.0\n",
      "munkres              1.1.4\n",
      "nbconvert            7.2.5\n",
      "nest-asyncio         1.5.6\n",
      "networkx             2.8.4\n",
      "numexpr              2.8.4\n",
      "numpy                1.24.3\n",
      "packaging            23.0\n",
      "pandas               1.5.3\n",
      "parso                0.8.3\n",
      "pickleshare          0.7.5\n",
      "Pillow               9.5.0\n",
      "pip                  23.0.1\n",
      "platformdirs         2.5.2\n",
      "ply                  3.11\n",
      "prompt-toolkit       3.0.36\n",
      "psutil               5.9.0\n",
      "pure-eval            0.2.2\n",
      "pycparser            2.21\n",
      "Pygments             2.15.1\n",
      "PyOpenGL             3.1.7\n",
      "pyOpenSSL            23.0.0\n",
      "pyparsing            3.0.9\n",
      "PyQt5                5.15.7\n",
      "PyQt5-sip            12.11.0\n",
      "PySocks              1.7.1\n",
      "python-dateutil      2.8.2\n",
      "pytz                 2022.7\n",
      "pywin32              305.1\n",
      "pyzmq                25.0.2\n",
      "requests             2.29.0\n",
      "setuptools           66.0.0\n",
      "sip                  6.6.2\n",
      "six                  1.16.0\n",
      "stack-data           0.2.0\n",
      "sympy                1.11.1\n",
      "toml                 0.10.2\n",
      "torch                2.0.1\n",
      "torchaudio           2.0.2\n",
      "torchvision          0.15.2\n",
      "tornado              6.2\n",
      "traitlets            5.7.1\n",
      "typing_extensions    4.5.0\n",
      "urllib3              1.26.15\n",
      "wcwidth              0.2.5\n",
      "wheel                0.38.4\n",
      "win-inet-pton        1.1.0\n",
      "Note: you may need to restart the kernel to use updated packages.\n"
     ]
    }
   ],
   "source": [
    "pip list"
   ]
  }
 ],
 "metadata": {
  "kernelspec": {
   "display_name": "handwritingRecognition",
   "language": "python",
   "name": "python3"
  },
  "language_info": {
   "codemirror_mode": {
    "name": "ipython",
    "version": 3
   },
   "file_extension": ".py",
   "mimetype": "text/x-python",
   "name": "python",
   "nbconvert_exporter": "python",
   "pygments_lexer": "ipython3",
   "version": "3.10.9"
  },
  "orig_nbformat": 4
 },
 "nbformat": 4,
 "nbformat_minor": 2
}
