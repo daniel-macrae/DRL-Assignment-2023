{
 "cells": [
  {
   "cell_type": "code",
   "execution_count": 11,
   "metadata": {},
   "outputs": [
    {
     "name": "stderr",
     "output_type": "stream",
     "text": [
      "\n",
      "You appear to be missing MuJoCo.  We expected to find the file here: C:\\Users\\danie\\.mujoco\\mujoco210\n",
      "\n",
      "This package only provides python bindings, the library must be installed separately.\n",
      "\n",
      "Please follow the instructions on the README to install MuJoCo\n",
      "\n",
      "    https://github.com/openai/mujoco-py#install-mujoco\n",
      "\n",
      "Which can be downloaded from the website\n",
      "\n",
      "    https://www.roboti.us/index.html\n",
      "\n"
     ]
    },
    {
     "ename": "Exception",
     "evalue": "\nYou appear to be missing MuJoCo.  We expected to find the file here: C:\\Users\\danie\\.mujoco\\mujoco210\n\nThis package only provides python bindings, the library must be installed separately.\n\nPlease follow the instructions on the README to install MuJoCo\n\n    https://github.com/openai/mujoco-py#install-mujoco\n\nWhich can be downloaded from the website\n\n    https://www.roboti.us/index.html\n",
     "output_type": "error",
     "traceback": [
      "\u001b[1;31m---------------------------------------------------------------------------\u001b[0m",
      "\u001b[1;31mException\u001b[0m                                 Traceback (most recent call last)",
      "Cell \u001b[1;32mIn[11], line 3\u001b[0m\n\u001b[0;32m      1\u001b[0m \u001b[39mimport\u001b[39;00m \u001b[39mgym\u001b[39;00m\n\u001b[1;32m----> 3\u001b[0m env \u001b[39m=\u001b[39m gym\u001b[39m.\u001b[39;49mmake(\u001b[39m\"\u001b[39;49m\u001b[39mAnt-v2\u001b[39;49m\u001b[39m\"\u001b[39;49m)\n\u001b[0;32m      5\u001b[0m env\u001b[39m.\u001b[39mreset()\n",
      "File \u001b[1;32mc:\\Users\\danie\\miniconda3\\envs\\DRLenv\\lib\\site-packages\\gym\\envs\\registration.py:235\u001b[0m, in \u001b[0;36mmake\u001b[1;34m(id, **kwargs)\u001b[0m\n\u001b[0;32m    234\u001b[0m \u001b[39mdef\u001b[39;00m \u001b[39mmake\u001b[39m(\u001b[39mid\u001b[39m, \u001b[39m*\u001b[39m\u001b[39m*\u001b[39mkwargs):\n\u001b[1;32m--> 235\u001b[0m     \u001b[39mreturn\u001b[39;00m registry\u001b[39m.\u001b[39mmake(\u001b[39mid\u001b[39m, \u001b[39m*\u001b[39m\u001b[39m*\u001b[39mkwargs)\n",
      "File \u001b[1;32mc:\\Users\\danie\\miniconda3\\envs\\DRLenv\\lib\\site-packages\\gym\\envs\\registration.py:129\u001b[0m, in \u001b[0;36mEnvRegistry.make\u001b[1;34m(self, path, **kwargs)\u001b[0m\n\u001b[0;32m    127\u001b[0m     logger\u001b[39m.\u001b[39minfo(\u001b[39m\"\u001b[39m\u001b[39mMaking new env: \u001b[39m\u001b[39m%s\u001b[39;00m\u001b[39m\"\u001b[39m, path)\n\u001b[0;32m    128\u001b[0m spec \u001b[39m=\u001b[39m \u001b[39mself\u001b[39m\u001b[39m.\u001b[39mspec(path)\n\u001b[1;32m--> 129\u001b[0m env \u001b[39m=\u001b[39m spec\u001b[39m.\u001b[39mmake(\u001b[39m*\u001b[39m\u001b[39m*\u001b[39mkwargs)\n\u001b[0;32m    130\u001b[0m \u001b[39mreturn\u001b[39;00m env\n",
      "File \u001b[1;32mc:\\Users\\danie\\miniconda3\\envs\\DRLenv\\lib\\site-packages\\gym\\envs\\registration.py:89\u001b[0m, in \u001b[0;36mEnvSpec.make\u001b[1;34m(self, **kwargs)\u001b[0m\n\u001b[0;32m     87\u001b[0m     env \u001b[39m=\u001b[39m \u001b[39mself\u001b[39m\u001b[39m.\u001b[39mentry_point(\u001b[39m*\u001b[39m\u001b[39m*\u001b[39m_kwargs)\n\u001b[0;32m     88\u001b[0m \u001b[39melse\u001b[39;00m:\n\u001b[1;32m---> 89\u001b[0m     \u001b[39mcls\u001b[39m \u001b[39m=\u001b[39m load(\u001b[39mself\u001b[39;49m\u001b[39m.\u001b[39;49mentry_point)\n\u001b[0;32m     90\u001b[0m     env \u001b[39m=\u001b[39m \u001b[39mcls\u001b[39m(\u001b[39m*\u001b[39m\u001b[39m*\u001b[39m_kwargs)\n\u001b[0;32m     92\u001b[0m \u001b[39m# Make the environment aware of which spec it came from.\u001b[39;00m\n",
      "File \u001b[1;32mc:\\Users\\danie\\miniconda3\\envs\\DRLenv\\lib\\site-packages\\gym\\envs\\registration.py:27\u001b[0m, in \u001b[0;36mload\u001b[1;34m(name)\u001b[0m\n\u001b[0;32m     25\u001b[0m \u001b[39mdef\u001b[39;00m \u001b[39mload\u001b[39m(name):\n\u001b[0;32m     26\u001b[0m     mod_name, attr_name \u001b[39m=\u001b[39m name\u001b[39m.\u001b[39msplit(\u001b[39m\"\u001b[39m\u001b[39m:\u001b[39m\u001b[39m\"\u001b[39m)\n\u001b[1;32m---> 27\u001b[0m     mod \u001b[39m=\u001b[39m importlib\u001b[39m.\u001b[39;49mimport_module(mod_name)\n\u001b[0;32m     28\u001b[0m     fn \u001b[39m=\u001b[39m \u001b[39mgetattr\u001b[39m(mod, attr_name)\n\u001b[0;32m     29\u001b[0m     \u001b[39mreturn\u001b[39;00m fn\n",
      "File \u001b[1;32mc:\\Users\\danie\\miniconda3\\envs\\DRLenv\\lib\\importlib\\__init__.py:126\u001b[0m, in \u001b[0;36mimport_module\u001b[1;34m(name, package)\u001b[0m\n\u001b[0;32m    124\u001b[0m             \u001b[39mbreak\u001b[39;00m\n\u001b[0;32m    125\u001b[0m         level \u001b[39m+\u001b[39m\u001b[39m=\u001b[39m \u001b[39m1\u001b[39m\n\u001b[1;32m--> 126\u001b[0m \u001b[39mreturn\u001b[39;00m _bootstrap\u001b[39m.\u001b[39;49m_gcd_import(name[level:], package, level)\n",
      "File \u001b[1;32m<frozen importlib._bootstrap>:1050\u001b[0m, in \u001b[0;36m_gcd_import\u001b[1;34m(name, package, level)\u001b[0m\n",
      "File \u001b[1;32m<frozen importlib._bootstrap>:1027\u001b[0m, in \u001b[0;36m_find_and_load\u001b[1;34m(name, import_)\u001b[0m\n",
      "File \u001b[1;32m<frozen importlib._bootstrap>:1006\u001b[0m, in \u001b[0;36m_find_and_load_unlocked\u001b[1;34m(name, import_)\u001b[0m\n",
      "File \u001b[1;32m<frozen importlib._bootstrap>:688\u001b[0m, in \u001b[0;36m_load_unlocked\u001b[1;34m(spec)\u001b[0m\n",
      "File \u001b[1;32m<frozen importlib._bootstrap_external>:883\u001b[0m, in \u001b[0;36mexec_module\u001b[1;34m(self, module)\u001b[0m\n",
      "File \u001b[1;32m<frozen importlib._bootstrap>:241\u001b[0m, in \u001b[0;36m_call_with_frames_removed\u001b[1;34m(f, *args, **kwds)\u001b[0m\n",
      "File \u001b[1;32mc:\\Users\\danie\\miniconda3\\envs\\DRLenv\\lib\\site-packages\\gym\\envs\\mujoco\\__init__.py:1\u001b[0m\n\u001b[1;32m----> 1\u001b[0m \u001b[39mfrom\u001b[39;00m \u001b[39mgym\u001b[39;00m\u001b[39m.\u001b[39;00m\u001b[39menvs\u001b[39;00m\u001b[39m.\u001b[39;00m\u001b[39mmujoco\u001b[39;00m\u001b[39m.\u001b[39;00m\u001b[39mmujoco_env\u001b[39;00m \u001b[39mimport\u001b[39;00m MujocoEnv\n\u001b[0;32m      3\u001b[0m \u001b[39m# ^^^^^ so that user gets the correct error\u001b[39;00m\n\u001b[0;32m      4\u001b[0m \u001b[39m# message if mujoco is not installed correctly\u001b[39;00m\n\u001b[0;32m      5\u001b[0m \u001b[39mfrom\u001b[39;00m \u001b[39mgym\u001b[39;00m\u001b[39m.\u001b[39;00m\u001b[39menvs\u001b[39;00m\u001b[39m.\u001b[39;00m\u001b[39mmujoco\u001b[39;00m\u001b[39m.\u001b[39;00m\u001b[39mant\u001b[39;00m \u001b[39mimport\u001b[39;00m AntEnv\n",
      "File \u001b[1;32mc:\\Users\\danie\\miniconda3\\envs\\DRLenv\\lib\\site-packages\\gym\\envs\\mujoco\\mujoco_env.py:12\u001b[0m\n\u001b[0;32m      9\u001b[0m \u001b[39mimport\u001b[39;00m \u001b[39mgym\u001b[39;00m\n\u001b[0;32m     11\u001b[0m \u001b[39mtry\u001b[39;00m:\n\u001b[1;32m---> 12\u001b[0m     \u001b[39mimport\u001b[39;00m \u001b[39mmujoco_py\u001b[39;00m\n\u001b[0;32m     13\u001b[0m \u001b[39mexcept\u001b[39;00m \u001b[39mImportError\u001b[39;00m \u001b[39mas\u001b[39;00m e:\n\u001b[0;32m     14\u001b[0m     \u001b[39mraise\u001b[39;00m error\u001b[39m.\u001b[39mDependencyNotInstalled(\n\u001b[0;32m     15\u001b[0m         \u001b[39m\"\u001b[39m\u001b[39m{}\u001b[39;00m\u001b[39m. (HINT: you need to install mujoco_py, and also perform the setup instructions here: https://github.com/openai/mujoco-py/.)\u001b[39m\u001b[39m\"\u001b[39m\u001b[39m.\u001b[39mformat(\n\u001b[0;32m     16\u001b[0m             e\n\u001b[0;32m     17\u001b[0m         )\n\u001b[0;32m     18\u001b[0m     )\n",
      "File \u001b[1;32mc:\\Users\\danie\\miniconda3\\envs\\DRLenv\\lib\\site-packages\\mujoco_py\\__init__.py:2\u001b[0m\n\u001b[0;32m      1\u001b[0m \u001b[39m#!/usr/bin/env python\u001b[39;00m\n\u001b[1;32m----> 2\u001b[0m \u001b[39mfrom\u001b[39;00m \u001b[39mmujoco_py\u001b[39;00m\u001b[39m.\u001b[39;00m\u001b[39mbuilder\u001b[39;00m \u001b[39mimport\u001b[39;00m cymj, ignore_mujoco_warnings, functions, MujocoException\n\u001b[0;32m      3\u001b[0m \u001b[39mfrom\u001b[39;00m \u001b[39mmujoco_py\u001b[39;00m\u001b[39m.\u001b[39;00m\u001b[39mgenerated\u001b[39;00m \u001b[39mimport\u001b[39;00m const\n\u001b[0;32m      4\u001b[0m \u001b[39mfrom\u001b[39;00m \u001b[39mmujoco_py\u001b[39;00m\u001b[39m.\u001b[39;00m\u001b[39mmjrenderpool\u001b[39;00m \u001b[39mimport\u001b[39;00m MjRenderPool\n",
      "File \u001b[1;32mc:\\Users\\danie\\miniconda3\\envs\\DRLenv\\lib\\site-packages\\mujoco_py\\builder.py:503\u001b[0m\n\u001b[0;32m    499\u001b[0m     build_fn_cleanup(name)\n\u001b[0;32m    500\u001b[0m     \u001b[39mreturn\u001b[39;00m module\u001b[39m.\u001b[39mlib\u001b[39m.\u001b[39m__fun\n\u001b[1;32m--> 503\u001b[0m mujoco_path \u001b[39m=\u001b[39m discover_mujoco()\n\u001b[0;32m    504\u001b[0m cymj \u001b[39m=\u001b[39m load_cython_ext(mujoco_path)\n\u001b[0;32m    507\u001b[0m \u001b[39m# Trick to expose all mj* functions from mujoco in mujoco_py.*\u001b[39;00m\n",
      "File \u001b[1;32mc:\\Users\\danie\\miniconda3\\envs\\DRLenv\\lib\\site-packages\\mujoco_py\\utils.py:78\u001b[0m, in \u001b[0;36mdiscover_mujoco\u001b[1;34m()\u001b[0m\n\u001b[0;32m     76\u001b[0m     message \u001b[39m=\u001b[39m MISSING_MUJOCO_MESSAGE\u001b[39m.\u001b[39mformat(mujoco_path)\n\u001b[0;32m     77\u001b[0m     \u001b[39mprint\u001b[39m(message, file\u001b[39m=\u001b[39msys\u001b[39m.\u001b[39mstderr)\n\u001b[1;32m---> 78\u001b[0m     \u001b[39mraise\u001b[39;00m \u001b[39mException\u001b[39;00m(message)\n\u001b[0;32m     80\u001b[0m \u001b[39mreturn\u001b[39;00m mujoco_path\n",
      "\u001b[1;31mException\u001b[0m: \nYou appear to be missing MuJoCo.  We expected to find the file here: C:\\Users\\danie\\.mujoco\\mujoco210\n\nThis package only provides python bindings, the library must be installed separately.\n\nPlease follow the instructions on the README to install MuJoCo\n\n    https://github.com/openai/mujoco-py#install-mujoco\n\nWhich can be downloaded from the website\n\n    https://www.roboti.us/index.html\n"
     ]
    }
   ],
   "source": [
    "import gym\n",
    "\n",
    "env = gym.make(\"Ant-v2\")\n",
    "\n",
    "env.reset()\n"
   ]
  },
  {
   "cell_type": "code",
   "execution_count": 4,
   "metadata": {},
   "outputs": [
    {
     "ename": "NameError",
     "evalue": "name 'env' is not defined",
     "output_type": "error",
     "traceback": [
      "\u001b[1;31m---------------------------------------------------------------------------\u001b[0m",
      "\u001b[1;31mNameError\u001b[0m                                 Traceback (most recent call last)",
      "Cell \u001b[1;32mIn[4], line 5\u001b[0m\n\u001b[0;32m      1\u001b[0m \u001b[39mfrom\u001b[39;00m \u001b[39mstable_baselines3\u001b[39;00m\u001b[39m.\u001b[39;00m\u001b[39mcommon\u001b[39;00m\u001b[39m.\u001b[39;00m\u001b[39menv_checker\u001b[39;00m \u001b[39mimport\u001b[39;00m check_env\n\u001b[0;32m      3\u001b[0m \u001b[39m#env = CustomEnv(arg1, ...)\u001b[39;00m\n\u001b[0;32m      4\u001b[0m \u001b[39m# It will check your custom environment and output additional warnings if needed\u001b[39;00m\n\u001b[1;32m----> 5\u001b[0m check_env(env)\n",
      "\u001b[1;31mNameError\u001b[0m: name 'env' is not defined"
     ]
    }
   ],
   "source": [
    "from stable_baselines3.common.env_checker import check_env\n",
    "\n",
    "#env = CustomEnv(arg1, ...)\n",
    "# It will check your custom environment and output additional warnings if needed\n",
    "check_env(env)"
   ]
  },
  {
   "attachments": {},
   "cell_type": "markdown",
   "metadata": {},
   "source": [
    "## Policy Network guides:\n",
    "\n",
    "REINFORCE algorithm\n",
    "https://gymnasium.farama.org/v0.27.0/tutorials/reinforce_invpend_gym_v26/\n",
    "\n",
    "A2C\n",
    "https://stable-baselines.readthedocs.io/en/master/modules/a2c.html\n",
    "\n",
    "\n"
   ]
  },
  {
   "cell_type": "code",
   "execution_count": 2,
   "metadata": {},
   "outputs": [
    {
     "name": "stdout",
     "output_type": "stream",
     "text": [
      "[ 0.79465175  0.98566171 -0.12474083  0.08397608 -0.07654233 -0.41048753\n",
      "  0.58175695  0.2660585  -0.50250827  0.07073889 -1.30404199  0.61311345\n",
      "  0.52209064 -0.25832376  0.5821756  -0.96753513  0.13575042  0.25408249\n",
      " -0.48564087 -7.5829727   1.30438517  6.54761803 -0.75738533  3.42330906\n",
      " -7.61501857  2.53538419  0.36489947] \n",
      "\n",
      "-1.6661572234195925 \n",
      "\n",
      "False \n",
      "\n",
      "False \n",
      "\n",
      "{'reward_forward': -0.4296564833683229, 'reward_ctrl': -2.2365007400512695, 'reward_survive': 1.0, 'x_position': -0.025781811849054554, 'y_position': 0.09905729467374286, 'distance_from_origin': 0.1023574591825177, 'x_velocity': -0.4296564833683229, 'y_velocity': 0.2665056926447973, 'forward_reward': -0.4296564833683229} \n",
      "\n"
     ]
    },
    {
     "name": "stderr",
     "output_type": "stream",
     "text": [
      "c:\\Users\\danie\\miniconda3\\envs\\DRLenv\\lib\\site-packages\\gym\\utils\\passive_env_checker.py:233: DeprecationWarning: `np.bool8` is a deprecated alias for `np.bool_`.  (Deprecated NumPy 1.24)\n",
      "  if not isinstance(terminated, (bool, np.bool8)):\n"
     ]
    }
   ],
   "source": [
    "action = env.action_space.sample()\n",
    "\n",
    "\"\"\"\n",
    "- next_obs: This is the observation that the agent will receive after taking the action.\n",
    "- reward: This is the reward that the agent will receive after taking the action.\n",
    "- terminated: This is a boolean variable that indicates whether or not the environment has terminated.\n",
    "- truncated: This is a boolean variable that also indicates whether the episode ended by early truncation, i.e., a limit of 1000 timesteps is reached.\n",
    "- info: This is a dictionary that might contain additional information about the environment.\n",
    "\"\"\"\n",
    "observation, reward, terminated, truncated, info = env.step(action=action)\n",
    "\n",
    "output = env.step(action=action)\n",
    "\n",
    "\n",
    "for i in output:\n",
    "    print(i, \"\\n\")"
   ]
  },
  {
   "cell_type": "code",
   "execution_count": 16,
   "metadata": {},
   "outputs": [
    {
     "name": "stdout",
     "output_type": "stream",
     "text": [
      "Package              Version\n",
      "-------------------- --------\n",
      "absl-py              1.4.0\n",
      "asttokens            2.0.5\n",
      "backcall             0.2.0\n",
      "Bottleneck           1.3.5\n",
      "brotlipy             0.7.0\n",
      "certifi              2023.5.7\n",
      "cffi                 1.15.1\n",
      "charset-normalizer   2.0.4\n",
      "cloudpickle          2.2.1\n",
      "colorama             0.4.6\n",
      "comm                 0.1.2\n",
      "contourpy            1.0.5\n",
      "cryptography         39.0.1\n",
      "cycler               0.11.0\n",
      "Cython               0.29.35\n",
      "debugpy              1.5.1\n",
      "decorator            5.1.1\n",
      "executing            0.8.3\n",
      "Farama-Notifications 0.0.4\n",
      "fasteners            0.18\n",
      "filelock             3.9.0\n",
      "fonttools            4.25.0\n",
      "glfw                 2.5.9\n",
      "gym                  0.26.2\n",
      "gym-notices          0.0.8\n",
      "gymnasium            0.28.1\n",
      "idna                 3.4\n",
      "imageio              2.29.0\n",
      "ipykernel            6.19.2\n",
      "ipython              8.12.0\n",
      "jax-jumpy            1.0.0\n",
      "jedi                 0.18.1\n",
      "Jinja2               3.1.2\n",
      "jupyter_client       8.1.0\n",
      "jupyter_core         5.3.0\n",
      "kiwisolver           1.4.4\n",
      "MarkupSafe           2.1.1\n",
      "matplotlib           3.7.1\n",
      "matplotlib-inline    0.1.6\n",
      "mkl-fft              1.3.6\n",
      "mkl-random           1.2.2\n",
      "mkl-service          2.4.0\n",
      "mpmath               1.2.1\n",
      "mujoco               2.2.0\n",
      "munkres              1.1.4\n",
      "nbconvert            7.2.5\n",
      "nest-asyncio         1.5.6\n",
      "networkx             2.8.4\n",
      "numexpr              2.8.4\n",
      "numpy                1.24.3\n",
      "packaging            23.0\n",
      "pandas               1.5.3\n",
      "parso                0.8.3\n",
      "pickleshare          0.7.5\n",
      "Pillow               9.5.0\n",
      "pip                  23.0.1\n",
      "platformdirs         2.5.2\n",
      "ply                  3.11\n",
      "prompt-toolkit       3.0.36\n",
      "psutil               5.9.0\n",
      "pure-eval            0.2.2\n",
      "pycparser            2.21\n",
      "Pygments             2.15.1\n",
      "PyOpenGL             3.1.7\n",
      "pyOpenSSL            23.0.0\n",
      "pyparsing            3.0.9\n",
      "PyQt5                5.15.7\n",
      "PyQt5-sip            12.11.0\n",
      "PySocks              1.7.1\n",
      "python-dateutil      2.8.2\n",
      "pytz                 2022.7\n",
      "pywin32              305.1\n",
      "pyzmq                25.0.2\n",
      "requests             2.29.0\n",
      "setuptools           66.0.0\n",
      "sip                  6.6.2\n",
      "six                  1.16.0\n",
      "stack-data           0.2.0\n",
      "sympy                1.11.1\n",
      "toml                 0.10.2\n",
      "torch                2.0.1\n",
      "torchaudio           2.0.2\n",
      "torchvision          0.15.2\n",
      "tornado              6.2\n",
      "traitlets            5.7.1\n",
      "typing_extensions    4.5.0\n",
      "urllib3              1.26.15\n",
      "wcwidth              0.2.5\n",
      "wheel                0.38.4\n",
      "win-inet-pton        1.1.0\n",
      "Note: you may need to restart the kernel to use updated packages.\n"
     ]
    }
   ],
   "source": [
    "pip list"
   ]
  }
 ],
 "metadata": {
  "kernelspec": {
   "display_name": "handwritingRecognition",
   "language": "python",
   "name": "python3"
  },
  "language_info": {
   "codemirror_mode": {
    "name": "ipython",
    "version": 3
   },
   "file_extension": ".py",
   "mimetype": "text/x-python",
   "name": "python",
   "nbconvert_exporter": "python",
   "pygments_lexer": "ipython3",
   "version": "3.10.9"
  },
  "orig_nbformat": 4
 },
 "nbformat": 4,
 "nbformat_minor": 2
}
